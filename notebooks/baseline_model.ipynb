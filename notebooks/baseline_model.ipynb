{
 "cells": [
  {
   "cell_type": "markdown",
   "id": "f653f3c8",
   "metadata": {},
   "source": [
    "**Используется логистическая регрессия**"
   ]
  },
  {
   "cell_type": "code",
   "execution_count": 10,
   "id": "c33658cc",
   "metadata": {},
   "outputs": [],
   "source": [
    "import pandas as pd\n",
    "import numpy as np\n",
    "\n",
    "from sklearn.model_selection import train_test_split\n",
    "from sklearn.linear_model import LogisticRegression\n",
    "from sklearn.preprocessing import StandardScaler, OneHotEncoder\n",
    "from sklearn.metrics import roc_auc_score\n",
    "from sklearn.pipeline import Pipeline\n",
    "\n",
    "import matplotlib.pyplot as plt\n",
    "\n",
    "import gdown"
   ]
  },
  {
   "cell_type": "code",
   "execution_count": null,
   "id": "d02d4a8f",
   "metadata": {},
   "outputs": [],
   "source": []
  },
  {
   "cell_type": "code",
   "execution_count": null,
   "id": "cb2e6cbb",
   "metadata": {},
   "outputs": [],
   "source": []
  },
  {
   "cell_type": "markdown",
   "id": "487b85ea",
   "metadata": {},
   "source": [
    "### 1. Считывание данных + фильтрация выбросов (см. ноутбук EDA)"
   ]
  },
  {
   "cell_type": "code",
   "execution_count": 11,
   "id": "22369d52",
   "metadata": {},
   "outputs": [
    {
     "name": "stderr",
     "output_type": "stream",
     "text": [
      "Downloading...\n",
      "From: https://drive.google.com/uc?id=1H0IDV40zbiJlBh5O27yfTc3wZ-23eK3Z\n",
      "To: C:\\Users\\Clover\\dgalk\\ml.ai\\made\\2-й семестр\\ML в продакшене\\homework_1\\notebooks\\heart_cleveland_upload.csv\n",
      "100%|█████████████████████████████████████████████████████████████████████████████| 11.1k/11.1k [00:00<00:00, 5.55MB/s]\n"
     ]
    },
    {
     "data": {
      "text/plain": [
       "'heart_cleveland_upload.csv'"
      ]
     },
     "execution_count": 11,
     "metadata": {},
     "output_type": "execute_result"
    }
   ],
   "source": [
    "url = \"https://drive.google.com/uc?id=1H0IDV40zbiJlBh5O27yfTc3wZ-23eK3Z\"\n",
    "output = \"heart_cleveland_upload.csv\"\n",
    "\n",
    "gdown.download(url=url, output=output, quiet=False)"
   ]
  },
  {
   "cell_type": "code",
   "execution_count": 12,
   "id": "41255196",
   "metadata": {},
   "outputs": [],
   "source": [
    "df = pd.read_csv(\"heart_cleveland_upload.csv\")"
   ]
  },
  {
   "cell_type": "code",
   "execution_count": 13,
   "id": "34a62821",
   "metadata": {},
   "outputs": [],
   "source": [
    "def get_whiskers(data, col_name):\n",
    "    \"\"\"Расчет левого и правого усов для данных из df в колонке col_name.\"\"\"\n",
    "    \n",
    "    iqr = data.describe().loc[\"75%\", col_name] - data.describe().loc[\"25%\", col_name]\n",
    "    \n",
    "    whisker_left = data.describe().loc[\"25%\", col_name] - 1.5 * iqr\n",
    "    whisker_right = data.describe().loc[\"75%\", col_name] + 1.5 * iqr\n",
    "    \n",
    "    return whisker_left, whisker_right"
   ]
  },
  {
   "cell_type": "code",
   "execution_count": 14,
   "id": "6763ddd1",
   "metadata": {},
   "outputs": [
    {
     "data": {
      "text/plain": [
       "(278, 14)"
      ]
     },
     "execution_count": 14,
     "metadata": {},
     "output_type": "execute_result"
    }
   ],
   "source": [
    "df_filtered = df[\n",
    "    (df[\"trestbps\"] <= get_whiskers(df, \"trestbps\")[1])\n",
    "    & (df[\"chol\"] <= get_whiskers(df, \"chol\")[1])\n",
    "    & (df[\"thalach\"] >= get_whiskers(df, \"thalach\")[0])\n",
    "    & (df[\"oldpeak\"] <= get_whiskers(df, \"oldpeak\")[1])\n",
    "]\n",
    "\n",
    "df_filtered.shape"
   ]
  },
  {
   "cell_type": "code",
   "execution_count": null,
   "id": "87b199ee",
   "metadata": {},
   "outputs": [],
   "source": []
  },
  {
   "cell_type": "code",
   "execution_count": null,
   "id": "90ba5b0f",
   "metadata": {},
   "outputs": [],
   "source": []
  },
  {
   "cell_type": "markdown",
   "id": "aacb5c94",
   "metadata": {},
   "source": [
    "### 2. Разбивка на train / test"
   ]
  },
  {
   "cell_type": "code",
   "execution_count": 15,
   "id": "989ed22e",
   "metadata": {},
   "outputs": [
    {
     "data": {
      "text/plain": [
       "((278, 13), (278,))"
      ]
     },
     "execution_count": 15,
     "metadata": {},
     "output_type": "execute_result"
    }
   ],
   "source": [
    "X = df_filtered.drop('condition', axis=1)\n",
    "y = df_filtered['condition']\n",
    "\n",
    "X.shape, y.shape"
   ]
  },
  {
   "cell_type": "code",
   "execution_count": 16,
   "id": "51beeb1e",
   "metadata": {},
   "outputs": [],
   "source": [
    "X_train, X_test, y_train, y_test = train_test_split(\n",
    "    X, y, test_size=0.2, random_state=17, shuffle=True\n",
    ")"
   ]
  },
  {
   "cell_type": "code",
   "execution_count": null,
   "id": "bb24efb8",
   "metadata": {},
   "outputs": [],
   "source": []
  },
  {
   "cell_type": "code",
   "execution_count": null,
   "id": "8ca29cd2",
   "metadata": {},
   "outputs": [],
   "source": []
  },
  {
   "cell_type": "markdown",
   "id": "78282bac",
   "metadata": {},
   "source": [
    "### 3. Обучение"
   ]
  },
  {
   "cell_type": "code",
   "execution_count": 24,
   "id": "3112bd2a",
   "metadata": {},
   "outputs": [],
   "source": [
    "pipe = Pipeline([\n",
    "    ('scaler', StandardScaler()), \n",
    "    ('logistic_regression', LogisticRegression())\n",
    "])"
   ]
  },
  {
   "cell_type": "code",
   "execution_count": 25,
   "id": "d51d660f",
   "metadata": {},
   "outputs": [
    {
     "data": {
      "text/plain": [
       "Pipeline(steps=[('scaler', StandardScaler()),\n",
       "                ('logistic_regression', LogisticRegression())])"
      ]
     },
     "execution_count": 25,
     "metadata": {},
     "output_type": "execute_result"
    }
   ],
   "source": [
    "pipe.fit(X_train, y_train)"
   ]
  },
  {
   "cell_type": "code",
   "execution_count": 26,
   "id": "8c711e44",
   "metadata": {},
   "outputs": [],
   "source": [
    "acc = pipe.score(X_test, y_test)"
   ]
  },
  {
   "cell_type": "code",
   "execution_count": 27,
   "id": "84fbc712",
   "metadata": {},
   "outputs": [],
   "source": [
    "y_pred = pipe.predict_proba(X_test)[:, 1]\n",
    "roc_auc = roc_auc_score(y_test, y_pred)"
   ]
  },
  {
   "cell_type": "code",
   "execution_count": 28,
   "id": "16def281",
   "metadata": {},
   "outputs": [
    {
     "data": {
      "text/plain": [
       "(0.875, 0.9106002554278416)"
      ]
     },
     "execution_count": 28,
     "metadata": {},
     "output_type": "execute_result"
    }
   ],
   "source": [
    "acc, roc_auc"
   ]
  },
  {
   "cell_type": "code",
   "execution_count": null,
   "id": "622a7a1b",
   "metadata": {},
   "outputs": [],
   "source": []
  },
  {
   "cell_type": "code",
   "execution_count": null,
   "id": "2b17d5c5",
   "metadata": {},
   "outputs": [],
   "source": []
  },
  {
   "cell_type": "markdown",
   "id": "31c09636",
   "metadata": {},
   "source": [
    "### 4. Важность признаков"
   ]
  },
  {
   "cell_type": "code",
   "execution_count": 13,
   "id": "158bc41e",
   "metadata": {
    "scrolled": true
   },
   "outputs": [
    {
     "data": {
      "image/png": "[encoded data removed]",
      "text/plain": [
       "<Figure size 1080x288 with 1 Axes>"
      ]
     },
     "metadata": {
      "needs_background": "light"
     },
     "output_type": "display_data"
    }
   ],
   "source": [
    "feats = X_train.columns\n",
    "ids_sorted = np.argsort(pipe[\"logistic_regression\"].coef_)[0]\n",
    "\n",
    "plt.figure(figsize=(15, 4))\n",
    "plt.bar(x=np.arange(len(feats)), height=pipe[\"logistic_regression\"].coef_[0][ids_sorted])\n",
    "plt.xticks(np.arange(len(feats)), feats[ids_sorted], fontsize=14);\n",
    "plt.title(\"Feature importances\", fontsize=14)\n",
    "plt.grid()"
   ]
  },
  {
   "cell_type": "code",
   "execution_count": null,
   "id": "571f0634",
   "metadata": {},
   "outputs": [],
   "source": []
  }
 ],
 "metadata": {
  "kernelspec": {
   "display_name": "Python 3 (ipykernel)",
   "language": "python",
   "name": "python3"
  },
  "language_info": {
   "codemirror_mode": {
    "name": "ipython",
    "version": 3
   },
   "file_extension": ".py",
   "mimetype": "text/x-python",
   "name": "python",
   "nbconvert_exporter": "python",
   "pygments_lexer": "ipython3",
   "version": "3.8.8"
  }
 },
 "nbformat": 4,
 "nbformat_minor": 5
}
